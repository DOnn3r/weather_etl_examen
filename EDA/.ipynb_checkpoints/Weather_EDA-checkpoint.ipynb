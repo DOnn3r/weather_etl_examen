{
 "cells": [
  {
   "cell_type": "code",
   "execution_count": null,
   "id": "2d3bac8a-8665-4679-a661-65e2e8257c00",
   "metadata": {},
   "outputs": [],
   "source": [
    "1. Préparation de l’environnement"
   ]
  },
  {
   "cell_type": "code",
   "execution_count": null,
   "id": "3940023a-88be-4f01-bce5-275c1d2cc8ac",
   "metadata": {},
   "outputs": [],
   "source": [
    "import pandas as pd\n",
    "import matplotlib.pyplot as plt\n",
    "import numpy as np\n",
    "import seaborn as sns\n",
    "\n",
    "# Configuration graphique\n",
    "sns.set(style=\"whitegrid\")\n",
    "%matplotlib inline"
   ]
  },
  {
   "cell_type": "code",
   "execution_count": null,
   "id": "750d0bad-ff78-4794-be62-ad2b8613024f",
   "metadata": {},
   "outputs": [],
   "source": [
    "2. Chargement des jeux de données"
   ]
  },
  {
   "cell_type": "code",
   "execution_count": null,
   "id": "68783ca1-ee90-4d47-b66a-eba4ffe18b33",
   "metadata": {},
   "outputs": [],
   "source": [
    "# Chemins de tes fichiers générés par le pipeline Airflow\n",
    "fact_path = \"fact_weather.csv\"\n",
    "indicateur_path = \"indicateurs_ville.csv\"\n",
    "historique_path = \"historical_all.csv\"\n",
    "\n",
    "# Chargement\n",
    "df_fact = pd.read_csv(fact_path)\n",
    "df_indicateurs = pd.read_csv(indicateur_path)\n",
    "df_histo = pd.read_csv(historique_path)"
   ]
  },
  {
   "cell_type": "code",
   "execution_count": null,
   "id": "382fe154-fc6b-4da4-b1d2-08a1d4b18933",
   "metadata": {},
   "outputs": [],
   "source": []
  },
  {
   "cell_type": "code",
   "execution_count": null,
   "id": "252ad3c9-8c10-49e2-8def-2236e1504daf",
   "metadata": {},
   "outputs": [],
   "source": [
    "# Affichage des premières lignes\n",
    "df_fact.head()\n",
    "df_indicateurs.head()\n",
    "df_histo.head()\n",
    "\n",
    "# Info générales\n",
    "df_fact.info()\n",
    "df_indicateurs.info()\n",
    "df_histo.info()"
   ]
  },
  {
   "cell_type": "code",
   "execution_count": null,
   "id": "a6eabeda-d2e2-47c9-92c1-f99e66bd1b51",
   "metadata": {},
   "outputs": [],
   "source": []
  },
  {
   "cell_type": "code",
   "execution_count": null,
   "id": "f3dd7610-fc6c-4bf0-a706-de3f9d3fb7e1",
   "metadata": {},
   "outputs": [],
   "source": [
    "# Nettoyage\n",
    "df_histo = df_histo.replace([np.inf, -np.inf], np.nan)\n",
    "\n",
    "# Supprimer les lignes critiques\n",
    "df_histo = df_histo.dropna(subset=['temp_moyenne'])\n",
    "\n",
    "# Remplissage partiel\n",
    "df_histo['precipitation_totale'] = df_histo['precipitation_totale'].fillna(0)\n",
    "df_histo['vent_moyen'] = df_histo['vent_moyen'].ffill()\n",
    "\n",
    "# Vérification finale\n",
    "print(df_histo.isnull().sum())"
   ]
  },
  {
   "cell_type": "code",
   "execution_count": null,
   "id": "d48ca630-8025-452f-b872-490821145220",
   "metadata": {},
   "outputs": [],
   "source": []
  },
  {
   "cell_type": "code",
   "execution_count": null,
   "id": "c2ffb5f7-c5c0-43d0-b588-d0cf934f1703",
   "metadata": {
    "scrolled": true
   },
   "outputs": [],
   "source": [
    "plt.figure(figsize=(10, 5))\n",
    "sns.boxplot(x='ville', y='temp_moyenne', data=df_histo)\n",
    "plt.title(\"Distribution des températures moyennes par ville (Historique)\")\n",
    "plt.show()"
   ]
  },
  {
   "cell_type": "code",
   "execution_count": null,
   "id": "ae52112a-c69e-442d-bc54-8785fa398013",
   "metadata": {},
   "outputs": [],
   "source": []
  },
  {
   "cell_type": "code",
   "execution_count": null,
   "id": "656b30d2-89d8-474d-9d94-c1846060fce7",
   "metadata": {},
   "outputs": [],
   "source": [
    "plt.figure(figsize=(12, 5))\n",
    "for city in df_histo['ville'].unique():\n",
    "    subset = df_histo[df_histo['ville'] == city]\n",
    "    sns.lineplot(data=subset, x='date', y='temp_moyenne', label=city)\n",
    "\n",
    "plt.title(\"Température moyenne dans le temps (Historique)\")\n",
    "plt.legend()\n",
    "plt.show()"
   ]
  },
  {
   "cell_type": "code",
   "execution_count": null,
   "id": "d379bab1-b5a8-4b07-aa08-860a692878b1",
   "metadata": {},
   "outputs": [],
   "source": []
  },
  {
   "cell_type": "code",
   "execution_count": null,
   "id": "d1f2f191-4659-4a8f-9cc2-8934986e9c6c",
   "metadata": {},
   "outputs": [],
   "source": [
    "pluvieux = df_histo.groupby(\"ville\")[\"jours_pluvieux\"].sum().sort_values()\n",
    "pluvieux.plot(kind=\"bar\", title=\"Nombre de jours pluvieux par ville\", figsize=(8,4))\n",
    "plt.ylabel(\"Jours pluvieux\")\n",
    "plt.show()"
   ]
  },
  {
   "cell_type": "code",
   "execution_count": null,
   "id": "89bb48fb-7dd2-4ebf-9c07-25cd128a60fc",
   "metadata": {},
   "outputs": [],
   "source": []
  },
  {
   "cell_type": "code",
   "execution_count": null,
   "id": "2e8e06ef-6e8d-406f-82d1-f9bf73d388c6",
   "metadata": {},
   "outputs": [],
   "source": [
    "sns.heatmap(df_histo[['temp_moyenne', 'precipitation_totale', 'vent_moyen']].corr(), annot=True)\n",
    "plt.title(\"Corrélations entre variables météo\")\n",
    "plt.show()"
   ]
  },
  {
   "cell_type": "code",
   "execution_count": null,
   "id": "fc26ba2c-7f3f-484e-a0b3-20148b92f4a1",
   "metadata": {},
   "outputs": [],
   "source": []
  },
  {
   "cell_type": "code",
   "execution_count": null,
   "id": "b8ecfdf9-3310-45ee-b91c-f75e03c37acb",
   "metadata": {},
   "outputs": [],
   "source": [
    "plt.figure(figsize=(8,5))\n",
    "sns.barplot(data=df_fact, x=\"ville_id\", y=\"temperature\")\n",
    "plt.title(\"Températures actuelles par ville (ville_id)\")\n",
    "plt.show()"
   ]
  },
  {
   "cell_type": "code",
   "execution_count": null,
   "id": "3b14f5ff-8eda-4729-80cb-f87fafb6e5e3",
   "metadata": {},
   "outputs": [],
   "source": []
  },
  {
   "cell_type": "code",
   "execution_count": null,
   "id": "8d9a6fed-72d3-47c7-828a-a475d217231a",
   "metadata": {},
   "outputs": [],
   "source": [
    "df_indicateurs.sort_values(\"temp_moyenne_moy\", ascending=False).plot(\n",
    "    x='ville', y='temp_moyenne_moy', kind='bar', title=\"Température moyenne sur 5 ans\"\n",
    ")"
   ]
  }
 ],
 "metadata": {
  "kernelspec": {
   "display_name": "Python 3 (ipykernel)",
   "language": "python",
   "name": "python3"
  },
  "language_info": {
   "codemirror_mode": {
    "name": "ipython",
    "version": 3
   },
   "file_extension": ".py",
   "mimetype": "text/x-python",
   "name": "python",
   "nbconvert_exporter": "python",
   "pygments_lexer": "ipython3",
   "version": "3.13.3"
  }
 },
 "nbformat": 4,
 "nbformat_minor": 5
}
